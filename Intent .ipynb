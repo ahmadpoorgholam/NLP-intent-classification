{
 "cells": [
  {
   "cell_type": "markdown",
   "metadata": {},
   "source": [
    "### Load necessary libraries"
   ]
  },
  {
   "cell_type": "code",
   "execution_count": 6,
   "metadata": {},
   "outputs": [],
   "source": [
    "import pandas as pd\n",
    "\n",
    "import numpy as np\n",
    "from scipy import stats\n",
    "\n",
    "import matplotlib.pyplot as plt\n",
    "import seaborn as sns\n",
    "\n",
    "from pprint import pprint\n",
    "\n",
    "from sklearn.model_selection import train_test_split\n",
    "from sklearn.model_selection import cross_val_score\n",
    "from sklearn.model_selection import  RandomizedSearchCV  , GridSearchCV\n",
    "\n",
    "from sklearn.feature_extraction.text import TfidfVectorizer , CountVectorizer ,TfidfTransformer\n",
    "\n",
    "from sklearn.metrics import confusion_matrix ,classification_report\n",
    "from sklearn.metrics import make_scorer, roc_auc_score\n",
    "\n",
    "\n",
    "from sklearn.linear_model import LogisticRegression\n",
    "from sklearn.svm import LinearSVC\n",
    "from sklearn.naive_bayes import MultinomialNB\n",
    "from sklearn.ensemble import RandomForestClassifier\n"
   ]
  },
  {
   "cell_type": "markdown",
   "metadata": {},
   "source": [
    "### Load Data \n"
   ]
  },
  {
   "cell_type": "code",
   "execution_count": 7,
   "metadata": {},
   "outputs": [
    {
     "data": {
      "text/html": [
       "<div>\n",
       "<style>\n",
       "    .dataframe thead tr:only-child th {\n",
       "        text-align: right;\n",
       "    }\n",
       "\n",
       "    .dataframe thead th {\n",
       "        text-align: left;\n",
       "    }\n",
       "\n",
       "    .dataframe tbody tr th {\n",
       "        vertical-align: top;\n",
       "    }\n",
       "</style>\n",
       "<table border=\"1\" class=\"dataframe\">\n",
       "  <thead>\n",
       "    <tr style=\"text-align: right;\">\n",
       "      <th></th>\n",
       "      <th>txt</th>\n",
       "      <th>Intent</th>\n",
       "    </tr>\n",
       "  </thead>\n",
       "  <tbody>\n",
       "    <tr>\n",
       "      <th>0</th>\n",
       "      <td>- Bakabileceğim bazı dersler var mı?</td>\n",
       "      <td>ask_faq_tutorials</td>\n",
       "    </tr>\n",
       "    <tr>\n",
       "      <th>1</th>\n",
       "      <td>- dersleriniz var mı</td>\n",
       "      <td>ask_faq_tutorials</td>\n",
       "    </tr>\n",
       "    <tr>\n",
       "      <th>2</th>\n",
       "      <td>- ciftci_bot'un nasıl kullanılacağı hakkında b...</td>\n",
       "      <td>ask_faq_tutorials</td>\n",
       "    </tr>\n",
       "    <tr>\n",
       "      <th>3</th>\n",
       "      <td>- ciftci_bot eğitimi</td>\n",
       "      <td>ask_faq_tutorials</td>\n",
       "    </tr>\n",
       "    <tr>\n",
       "      <th>4</th>\n",
       "      <td>- bana öğretici gösterebilir misin</td>\n",
       "      <td>ask_faq_tutorials</td>\n",
       "    </tr>\n",
       "  </tbody>\n",
       "</table>\n",
       "</div>"
      ],
      "text/plain": [
       "                                                 txt             Intent\n",
       "0               - Bakabileceğim bazı dersler var mı?  ask_faq_tutorials\n",
       "1                               - dersleriniz var mı  ask_faq_tutorials\n",
       "2  - ciftci_bot'un nasıl kullanılacağı hakkında b...  ask_faq_tutorials\n",
       "3                               - ciftci_bot eğitimi  ask_faq_tutorials\n",
       "4                 - bana öğretici gösterebilir misin  ask_faq_tutorials"
      ]
     },
     "execution_count": 7,
     "metadata": {},
     "output_type": "execute_result"
    }
   ],
   "source": [
    "df = pd.read_csv(\"intent_data.csv\", encoding = \"utf8\", sep='\\t',names = [\"txt\", \"Intent\"])\n",
    "df.head()"
   ]
  },
  {
   "cell_type": "markdown",
   "metadata": {},
   "source": [
    "### Perform pre processing and text cleaning"
   ]
  },
  {
   "cell_type": "code",
   "execution_count": 8,
   "metadata": {},
   "outputs": [],
   "source": [
    "df['txt'] = df['txt'].str.replace(r'([,-.])', ' ' )\n",
    "df['txt'] = df['txt'].str.lower()\n",
    "df['txt'] = df['txt'].str.replace(r'([!?()@])', r' \\1 ')"
   ]
  },
  {
   "cell_type": "code",
   "execution_count": 9,
   "metadata": {},
   "outputs": [
    {
     "data": {
      "text/plain": [
       "txt         elise @ gmail com\n",
       "Intent             enter_data\n",
       "Name: 572, dtype: object"
      ]
     },
     "execution_count": 9,
     "metadata": {},
     "output_type": "execute_result"
    }
   ],
   "source": [
    "# check some of the results\n",
    "df.iloc[572]\n"
   ]
  },
  {
   "cell_type": "markdown",
   "metadata": {},
   "source": [
    "### Becoming more familiar with distribution of classes in the dataset"
   ]
  },
  {
   "cell_type": "code",
   "execution_count": 5,
   "metadata": {},
   "outputs": [
    {
     "data": {
      "text/plain": [
       "<matplotlib.figure.Figure at 0x1b8a8a20>"
      ]
     },
     "metadata": {},
     "output_type": "display_data"
    },
    {
     "data": {
      "image/png": "[encoded data removed]",
      "text/plain": [
       "<matplotlib.figure.Figure at 0x1b8a89b0>"
      ]
     },
     "metadata": {},
     "output_type": "display_data"
    }
   ],
   "source": [
    "fig = plt.figure(figsize=(10,10))\n",
    "df.groupby('Intent').count().plot.bar(ylim=0)\n",
    "plt.show()"
   ]
  },
  {
   "cell_type": "markdown",
   "metadata": {},
   "source": [
    "### Load  Turkish Stop Words to user later :  Türkçe Dolgu Sözcükleri"
   ]
  },
  {
   "cell_type": "code",
   "execution_count": 6,
   "metadata": {},
   "outputs": [
    {
     "data": {
      "text/plain": [
       "['a', 'acaba', 'altı', 'altmış', 'ama']"
      ]
     },
     "execution_count": 6,
     "metadata": {},
     "output_type": "execute_result"
    }
   ],
   "source": [
    "stopWordFile = open(\"turkce-stop-words\",encoding=\"utf-8\")\n",
    "\n",
    "tuStopWords = []\n",
    "for word in stopWordFile:\n",
    "    word = word.strip()\n",
    "    tuStopWords.append(word)\n",
    "\n",
    "tuStopWords[:5]"
   ]
  },
  {
   "cell_type": "markdown",
   "metadata": {},
   "source": [
    "## Classical ML techniques"
   ]
  },
  {
   "cell_type": "markdown",
   "metadata": {},
   "source": [
    "\n",
    "\n"
   ]
  },
  {
   "cell_type": "markdown",
   "metadata": {},
   "source": [
    "### Constructing a list of usual text classifiers to compare their accuracy and choose one"
   ]
  },
  {
   "cell_type": "code",
   "execution_count": 7,
   "metadata": {},
   "outputs": [],
   "source": [
    "models = [\n",
    "    RandomForestClassifier(n_estimators=20, max_depth=4, random_state=0 ,n_jobs=-1),\n",
    "    LinearSVC(),\n",
    "    MultinomialNB(),\n",
    "    LogisticRegression(random_state=0),\n",
    "]"
   ]
  },
  {
   "cell_type": "markdown",
   "metadata": {},
   "source": [
    "### Split and transform our text into TF_IDF vectors"
   ]
  },
  {
   "cell_type": "code",
   "execution_count": 8,
   "metadata": {},
   "outputs": [],
   "source": [
    "X_train, X_test, y_train, y_test = train_test_split(df['txt'], df['Intent'], random_state = 0 ,stratify =df['Intent'])\n",
    "\n",
    "count_vect = CountVectorizer(stop_words=tuStopWords ,ngram_range =(1,2),min_df=2, encoding='utf8')\n",
    "\n",
    "X_train_counts = count_vect.fit_transform(X_train)\n",
    "\n",
    "tfidf_transformer = TfidfTransformer()\n",
    "\n",
    "X_train_tfidf = tfidf_transformer.fit_transform(X_train_counts)\n",
    "\n",
    "X_test_counts = count_vect.transform(X_test)\n",
    "\n",
    "X_test_tfidf = tfidf_transformer.fit_transform(X_test_counts)\n",
    "\n",
    "\n"
   ]
  },
  {
   "cell_type": "markdown",
   "metadata": {},
   "source": [
    "### Search for the best classifier"
   ]
  },
  {
   "cell_type": "code",
   "execution_count": 9,
   "metadata": {},
   "outputs": [
    {
     "name": "stdout",
     "output_type": "stream",
     "text": [
      "[('LinearSVC', 0.6512431130513321),\n",
      " ('LogisticRegression', 0.48478566361563946),\n",
      " ('MultinomialNB', 0.40462987527290506),\n",
      " ('RandomForestClassifier', 0.3275653038876246)]\n"
     ]
    }
   ],
   "source": [
    "reports = []\n",
    "\n",
    "for model in models:\n",
    "    \n",
    "    model_name = model.__class__.__name__\n",
    "    accuracies = cross_val_score(model, X_train_tfidf, y_train, scoring='accuracy', cv=5)\n",
    "    reports.append((model_name, np.mean( accuracies)))\n",
    "\n",
    "reports.sort()    \n",
    "pprint(reports)"
   ]
  },
  {
   "cell_type": "markdown",
   "metadata": {},
   "source": [
    "### Choosing LinearSVC and perform hyperparameter tuning with randomized search"
   ]
  },
  {
   "cell_type": "code",
   "execution_count": 10,
   "metadata": {},
   "outputs": [
    {
     "name": "stdout",
     "output_type": "stream",
     "text": [
      "best_params :  {'C': 1}\n",
      "best_score :  0.6442953020134228\n"
     ]
    }
   ],
   "source": [
    "clf = LinearSVC(multi_class=\"ovr\")\n",
    "\n",
    "\n",
    "grid_list = {\"C\": [0.001, 0.01, 0.1, 1, 10],\n",
    "             }\n",
    "grid_search = GridSearchCV(clf, param_grid = grid_list, n_jobs = -1, cv = 3) \n",
    "grid_search.fit(X_train_tfidf, y_train) \n",
    "\n",
    "\n",
    "print(\"best_params : \",grid_search.best_params_)\n",
    "print(\"best_score : \",grid_search.best_score_)"
   ]
  },
  {
   "cell_type": "markdown",
   "metadata": {},
   "source": [
    "###  Training the model"
   ]
  },
  {
   "cell_type": "code",
   "execution_count": 11,
   "metadata": {},
   "outputs": [
    {
     "data": {
      "text/plain": [
       "LinearSVC(C=1.0, class_weight=None, dual=True, fit_intercept=True,\n",
       "     intercept_scaling=1, loss='squared_hinge', max_iter=1000,\n",
       "     multi_class='ovr', penalty='l2', random_state=None, tol=0.0001,\n",
       "     verbose=0)"
      ]
     },
     "execution_count": 11,
     "metadata": {},
     "output_type": "execute_result"
    }
   ],
   "source": [
    "clf = LinearSVC(C=1.0)\n",
    "clf.fit(X_train_tfidf, y_train)"
   ]
  },
  {
   "cell_type": "markdown",
   "metadata": {},
   "source": [
    "###  Getting Base score on test set"
   ]
  },
  {
   "cell_type": "code",
   "execution_count": 12,
   "metadata": {},
   "outputs": [
    {
     "data": {
      "text/plain": [
       "0.642570281124498"
      ]
     },
     "execution_count": 12,
     "metadata": {},
     "output_type": "execute_result"
    }
   ],
   "source": [
    "clf.score(X_test_tfidf , y_test)"
   ]
  },
  {
   "cell_type": "markdown",
   "metadata": {},
   "source": [
    "###  Getting Predictions on  test set"
   ]
  },
  {
   "cell_type": "code",
   "execution_count": 13,
   "metadata": {},
   "outputs": [],
   "source": [
    "y_pred = clf.predict(X_test_tfidf)"
   ]
  },
  {
   "cell_type": "markdown",
   "metadata": {},
   "source": [
    "###  Getting classification report"
   ]
  },
  {
   "cell_type": "code",
   "execution_count": 14,
   "metadata": {},
   "outputs": [
    {
     "name": "stdout",
     "output_type": "stream",
     "text": [
      "                   precision    recall  f1-score   support\n",
      "\n",
      "ask_faq_tutorials       0.80      0.57      0.67         7\n",
      "       ask_howold       1.00      0.12      0.22         8\n",
      "        ask_isbot       0.25      0.33      0.29         3\n",
      "         ask_time       0.83      0.71      0.77         7\n",
      " ask_whatismyname       1.00      1.00      1.00        10\n",
      "    ask_wherefrom       0.38      0.50      0.43         6\n",
      "       ask_whoami       0.88      1.00      0.93         7\n",
      "      ask_builder       0.75      1.00      0.86         6\n",
      "     ask_howdoing       1.00      0.57      0.73         7\n",
      "      ask_weather       0.56      0.62      0.59         8\n",
      "ask_whatspossible       1.00      0.40      0.57         5\n",
      "      ask_whoisit       0.00      0.00      0.00         2\n",
      "              bye       0.50      0.25      0.33         4\n",
      "         canthelp       1.00      1.00      1.00         3\n",
      "    contact_sales       0.50      0.25      0.33         4\n",
      "             deny       0.74      0.77      0.76        22\n",
      "       enter_data       1.00      0.57      0.73         7\n",
      "            greet       0.50      0.88      0.63        59\n",
      "    human_handoff       0.86      0.67      0.75         9\n",
      "           affirm       0.88      1.00      0.93         7\n",
      "     out_of_scope       0.00      0.00      0.00        11\n",
      "signup_newsletter       0.27      0.12      0.16        26\n",
      "            thank       0.93      0.82      0.87        17\n",
      "         location       1.00      1.00      1.00         4\n",
      "\n",
      "      avg / total       0.64      0.64      0.61       249\n",
      "\n"
     ]
    },
    {
     "name": "stderr",
     "output_type": "stream",
     "text": [
      "C:\\ProgramData\\Anaconda3\\lib\\site-packages\\sklearn\\metrics\\classification.py:1135: UndefinedMetricWarning: Precision and F-score are ill-defined and being set to 0.0 in labels with no predicted samples.\n",
      "  'precision', 'predicted', average, warn_for)\n"
     ]
    }
   ],
   "source": [
    "print(classification_report(y_test, y_pred, target_names=df['Intent'].unique()))"
   ]
  },
  {
   "cell_type": "markdown",
   "metadata": {},
   "source": [
    "### Visualizing confusion matrix"
   ]
  },
  {
   "cell_type": "code",
   "execution_count": 15,
   "metadata": {},
   "outputs": [
    {
     "data": {
      "image/png": "[encoded data removed]",
      "text/plain": [
       "<matplotlib.figure.Figure at 0x1b9ac278>"
      ]
     },
     "metadata": {},
     "output_type": "display_data"
    }
   ],
   "source": [
    "conf_mat  = confusion_matrix(y_test, y_pred)\n",
    "fig, ax = plt.subplots(figsize=(10,10))\n",
    "sns.heatmap(conf_mat, annot=True, fmt='d',\n",
    "            xticklabels=df['Intent'].unique(), yticklabels=df['Intent'].unique())\n",
    "plt.ylabel('Actual')\n",
    "plt.xlabel('Predicted')\n",
    "plt.show()"
   ]
  }
 ],
 "metadata": {
  "kernelspec": {
   "display_name": "Python 3",
   "language": "python",
   "name": "python3"
  },
  "language_info": {
   "codemirror_mode": {
    "name": "ipython",
    "version": 3
   },
   "file_extension": ".py",
   "mimetype": "text/x-python",
   "name": "python",
   "nbconvert_exporter": "python",
   "pygments_lexer": "ipython3",
   "version": "3.6.3"
  }
 },
 "nbformat": 4,
 "nbformat_minor": 2
}
